{
 "cells": [
  {
   "cell_type": "code",
   "execution_count": 1,
   "id": "28f2680b",
   "metadata": {},
   "outputs": [],
   "source": [
    "import numpy as np\n",
    "from tqdm import tqdm\n",
    "\n",
    "class SVM:\n",
    "    def __init__(self, learningRate = 0.001, epsilon = 0.01, epochs = 1000, norm = 2) :\n",
    "        #sets constraints for SVM\n",
    "        self.weight = None\n",
    "        self.intercept = None\n",
    "        self.learningRate = learningRate\n",
    "        self.epsilon = epsilon\n",
    "        self.epochs = epochs\n",
    "        self.norm = norm\n",
    "    #END __init__\n",
    "\n",
    "    def fit(self, x, y):\n",
    "        #aligns values of negative one and zero to number zero, and one to number one\n",
    "        aligned = np.where(y <= 0, -1, 1)\n",
    "\n",
    "        #initialize the weight vector\n",
    "        self.weight = np.ones(x.shape[1])\n",
    "        self.intercept = 0\n",
    "\n",
    "        for epoch in range(self.epochs):\n",
    "            #counts the image iteration\n",
    "            imageIter = 0\n",
    "            for image in x:\n",
    "                if self.norm == 1 :\n",
    "                    weight = np.divide(self.weight, np.abs(self.weight))\n",
    "                    np.nan_to_num(weight)\n",
    "                elif self.norm == 2 :\n",
    "                    weight = np.divide(self.weight, np.linalg.norm(self.weight, 2))\n",
    "                    np.nan_to_num(weight)\n",
    "                elif self.norm == 3 :\n",
    "                    weight = np.divide(np.matmul(self.weight, np.abs(self.weight)), np.power(np.linalg.norm(self.weight, 3), 2))\n",
    "                    np.nan_to_num(weight)\n",
    "                #END IF\n",
    "\n",
    "                if 1 > aligned[imageIter] * (np.dot(image, self.weight) - self.intercept) :\n",
    "                    self.weight -= self.learningRate * (self.epsilon * weight - np.dot(image, aligned[imageIter]))\n",
    "                    self.intercept -= self.learningRate * aligned[imageIter]\n",
    "                else : \n",
    "                    self.weight -= self.learningRate * (self.epsilon * weight)\n",
    "                #END IF\n",
    "\n",
    "                #iterate the index image iterator by one\n",
    "                imageIter += 1\n",
    "            #END FOR\n",
    "        #END FOR\n",
    "    #END fit\n",
    "\n",
    "    def predict(self, x):\n",
    "        return np.sign(np.dot(x, self.weight) - self.intercept)\n",
    "    #END predict\n",
    "#END SVM"
   ]
  },
  {
   "cell_type": "code",
   "execution_count": 2,
   "id": "40ab86fc",
   "metadata": {},
   "outputs": [],
   "source": [
    "def get_subset_of_MNIST(X, Y):\n",
    "\tnew_X, new_Y = [], []\n",
    "\n",
    "\tfor i in range(len(Y)):\n",
    "\t\tif Y[i] in [0, 1]:\n",
    "\t\t\tnew_X.append(X[i].flatten())\n",
    "\t\t\tnew_Y.append(Y[i])\n",
    "\tX, Y = np.array(new_X), np.array(new_Y)\n",
    "\tY = Y * 2 - 1\n",
    "\treturn X, Y"
   ]
  },
  {
   "cell_type": "code",
   "execution_count": 3,
   "id": "1532c4bb",
   "metadata": {},
   "outputs": [],
   "source": [
    "def get_natural_acc(pred, Y):\n",
    "\tacc = pred * Y > 0\n",
    "\treturn acc.sum() / Y.shape[0]"
   ]
  },
  {
   "cell_type": "code",
   "execution_count": 4,
   "id": "1e77dfde",
   "metadata": {},
   "outputs": [],
   "source": [
    "#obtain variable data\n",
    "np.random.seed(0)\n",
    "epsilon = 0.01\n",
    "epoch = 1000\n",
    "learning_rate = 0.001\n",
    "norms = [1, 2, 3]\n",
    "\n",
    "#load the datasets\n",
    "MNIST_X = np.load('./mnist_X.npy')\n",
    "MNIST_Y = np.load('./mnist_Y.npy')\n",
    "\n",
    "#get data subsets\n",
    "x, y = get_subset_of_MNIST(MNIST_X, MNIST_Y)\n",
    "\n",
    "#for each norm from one to three"
   ]
  },
  {
   "cell_type": "code",
   "execution_count": 5,
   "id": "ea7c41a5",
   "metadata": {},
   "outputs": [
    {
     "name": "stdout",
     "output_type": "stream",
     "text": [
      "Accuracy for 1-norm\n",
      "0.991016548463357\n"
     ]
    }
   ],
   "source": [
    "#for the 1-norm\n",
    "norm = norms[0]\n",
    "\n",
    "#calculate the output prediction\n",
    "decent = SVM(learning_rate, epsilon, epoch, norm)\n",
    "decent.fit(x, y)\n",
    "output = decent.predict(x)\n",
    "\n",
    "#obtain the accuracy\n",
    "acc = output * y > 0\n",
    "acc.sum() / y.shape[0]\n",
    "\n",
    "#print the accuracy values\n",
    "print(\"Accuracy for %d-norm\" % norm)\n",
    "print(acc.sum() / y.shape[0])"
   ]
  },
  {
   "cell_type": "code",
   "execution_count": 6,
   "id": "3ce10532",
   "metadata": {},
   "outputs": [
    {
     "name": "stdout",
     "output_type": "stream",
     "text": [
      "Accuracy for 2-norm\n",
      "1.0\n"
     ]
    }
   ],
   "source": [
    "#for the 2-norm\n",
    "norm = norms[1]\n",
    "\n",
    "#calculate the output prediction\n",
    "decent = SVM(learning_rate, epsilon, epoch, norm)\n",
    "decent.fit(x, y)\n",
    "output = decent.predict(x)\n",
    "\n",
    "#obtain the accuracy\n",
    "acc = output * y > 0\n",
    "acc.sum() / y.shape[0]\n",
    "\n",
    "#print the accuracy values\n",
    "print(\"Accuracy for %d-norm\" % norm)\n",
    "print(acc.sum() / y.shape[0])"
   ]
  },
  {
   "cell_type": "code",
   "execution_count": 7,
   "id": "18de1bc7",
   "metadata": {},
   "outputs": [
    {
     "name": "stdout",
     "output_type": "stream",
     "text": [
      "Accuracy for 3-norm\n",
      "1.0\n"
     ]
    }
   ],
   "source": [
    "#for the 3-norm\n",
    "norm = norms[2]\n",
    "\n",
    "#calculate the output prediction\n",
    "decent = SVM(learning_rate, epsilon, epoch, norm)\n",
    "decent.fit(x, y)\n",
    "output = decent.predict(x)\n",
    "\n",
    "#obtain the accuracy\n",
    "acc = output * y > 0\n",
    "acc.sum() / y.shape[0]\n",
    "\n",
    "#print the accuracy values\n",
    "print(\"Accuracy for %d-norm\" % norm)\n",
    "print(acc.sum() / y.shape[0])"
   ]
  },
  {
   "cell_type": "code",
   "execution_count": null,
   "id": "b9f14ec0",
   "metadata": {},
   "outputs": [],
   "source": []
  }
 ],
 "metadata": {
  "kernelspec": {
   "display_name": "Python 3 (ipykernel)",
   "language": "python",
   "name": "python3"
  },
  "language_info": {
   "codemirror_mode": {
    "name": "ipython",
    "version": 3
   },
   "file_extension": ".py",
   "mimetype": "text/x-python",
   "name": "python",
   "nbconvert_exporter": "python",
   "pygments_lexer": "ipython3",
   "version": "3.7.2"
  }
 },
 "nbformat": 4,
 "nbformat_minor": 5
}
