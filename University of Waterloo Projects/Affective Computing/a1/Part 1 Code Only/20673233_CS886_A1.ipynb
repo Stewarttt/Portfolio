{
  "nbformat": 4,
  "nbformat_minor": 0,
  "metadata": {
    "colab": {
      "name": "20673233_CS886_A1.ipynb",
      "provenance": [],
      "collapsed_sections": []
    },
    "kernelspec": {
      "name": "python3",
      "display_name": "Python 3"
    },
    "language_info": {
      "name": "python"
    },
    "accelerator": "GPU"
  },
  "cells": [
    {
      "cell_type": "code",
      "metadata": {
        "colab": {
          "base_uri": "https://localhost:8080/"
        },
        "id": "L7WGb-P_4l1s",
        "outputId": "388eddcd-2fd8-4f67-e3d4-7205fb7628a9"
      },
      "source": [
        "from google.colab import drive\n",
        "drive.mount ('/content/drive')\n",
        "\n"
      ],
      "execution_count": 2,
      "outputs": [
        {
          "output_type": "stream",
          "name": "stdout",
          "text": [
            "Drive already mounted at /content/drive; to attempt to forcibly remount, call drive.mount(\"/content/drive\", force_remount=True).\n"
          ]
        }
      ]
    },
    {
      "cell_type": "code",
      "metadata": {
        "id": "JGmngcvqtCUb"
      },
      "source": [
        "import warnings\n",
        "\n",
        "import numpy as np\n",
        "import pandas as pd\n",
        "\n",
        "import cv2\n",
        "from PIL import Image\n",
        "from matplotlib import pyplot as plt \n",
        "import os\n",
        "import sys\n",
        "import warnings\n",
        "\n",
        "import torch\n",
        "import torch.nn as nn\n",
        "from sklearn.metrics import precision_score, f1_score, recall_score, confusion_matrix\n",
        "\n",
        "import torch.nn.functional as F\n",
        "from torch.utils.data import DataLoader\n",
        "from torch.utils.data import Dataset\n",
        "\n",
        "import torchvision\n",
        "import torchvision.transforms as transforms\n",
        "\n",
        "import seaborn as sns\n",
        "import matplotlib.pyplot as plt\n",
        "\n",
        "device = torch.device(\"cuda:0\" if torch.cuda.is_available() else \"cpu\")\n",
        "warnings.filterwarnings(\"ignore\")"
      ],
      "execution_count": 3,
      "outputs": []
    },
    {
      "cell_type": "code",
      "metadata": {
        "id": "MXt-SzT4tWgj"
      },
      "source": [
        "class CustomDataset(Dataset):\n",
        "    def __init__(self, images, labels, transform=None):\n",
        "        self.images = images\n",
        "        self.labels = labels\n",
        "        self.transform = transform\n",
        "\n",
        "    def __len__(self):\n",
        "        return len(self.images)\n",
        "\n",
        "    def __getitem__(self, idx):\n",
        "        if torch.is_tensor(idx):\n",
        "            idx = idx.tolist()\n",
        "\n",
        "        img = np.array(self.images[idx])\n",
        "        img = Image.fromarray(img)\n",
        "\n",
        "        if self.transform:\n",
        "            img = self.transform(img)\n",
        "\n",
        "        label = torch.tensor(self.labels[idx]).type(torch.long)\n",
        "        sample = (img, label)\n",
        "\n",
        "        return sample"
      ],
      "execution_count": 4,
      "outputs": []
    },
    {
      "cell_type": "code",
      "metadata": {
        "id": "R3YpwFUCtZ-v"
      },
      "source": [
        "def prepare_data(data):\n",
        "    \"\"\" Prepare data for modeling\n",
        "        input: data frame with labels und pixel data\n",
        "        output: image and label array \"\"\"\n",
        "\n",
        "    image_array = np.zeros(shape=(len(data), 48, 48))\n",
        "    image_label = np.array(list(map(int, data['emotion'])))\n",
        "\n",
        "    for i, row in enumerate(data.index):\n",
        "        image = np.fromstring(data.loc[row, 'pixels'], dtype=int, sep=' ')\n",
        "        image = np.reshape(image, (48, 48))\n",
        "        image_array[i] = image\n",
        "\n",
        "    return image_array, image_label"
      ],
      "execution_count": 5,
      "outputs": []
    },
    {
      "cell_type": "code",
      "metadata": {
        "id": "Ila70U3EIoyW"
      },
      "source": [
        "def load_data(path='fer2013.csv'):\n",
        "    fer2013 = pd.read_csv(path)\n",
        "    emotion_mapping = {0: 'Angry', 1: 'Disgust', 2: 'Fear', 3: 'Happy', 4: 'Sad', 5: 'Surprise', 6: 'Neutral'}\n",
        "\n",
        "    return fer2013, emotion_mapping"
      ],
      "execution_count": 6,
      "outputs": []
    },
    {
      "cell_type": "code",
      "metadata": {
        "id": "4357IopjtbTZ"
      },
      "source": [
        "def get_dataloaders(path='drive/MyDrive/fer2013.csv', bs=64, augment=True):\n",
        "    \"\"\" Prepare train, val, & test dataloaders\n",
        "        Augment training data using:\n",
        "            - cropping\n",
        "            - shifting (vertical/horizental)\n",
        "            - horizental flipping\n",
        "            - rotation\n",
        "\n",
        "        input: path to fer2013 csv file\n",
        "        output: (Dataloader, Dataloader, Dataloader) \"\"\"\n",
        "\n",
        "    fer2013, emotion_mapping = load_data(path)\n",
        "\n",
        "    xtrain, ytrain = prepare_data(fer2013[fer2013['Usage'] == 'Training'])\n",
        "    xval, yval = prepare_data(fer2013[fer2013['Usage'] == 'PrivateTest'])\n",
        "    xtest, ytest = prepare_data(fer2013[fer2013['Usage'] == 'PublicTest'])\n",
        "\n",
        "    mu, st = 0, 255\n",
        "\n",
        "    test_transform = transforms.Compose([\n",
        "        # transforms.Scale(52),\n",
        "        transforms.TenCrop(40),\n",
        "        transforms.Lambda(lambda crops: torch.stack([transforms.ToTensor()(crop) for crop in crops])),\n",
        "        transforms.Lambda(lambda tensors: torch.stack([transforms.Normalize(mean=(mu,), std=(st,))(t) for t in tensors])),\n",
        "    ])\n",
        "\n",
        "    if augment:\n",
        "        train_transform = transforms.Compose([\n",
        "            transforms.RandomResizedCrop(48, scale=(0.8, 1.2)),\n",
        "            transforms.RandomApply([transforms.RandomAffine(0, translate=(0.2, 0.2))], p=0.5),\n",
        "            transforms.RandomHorizontalFlip(),\n",
        "            transforms.RandomApply([transforms.RandomRotation(10)], p=0.5),\n",
        "\n",
        "            transforms.TenCrop(40),\n",
        "            transforms.Lambda(lambda crops: torch.stack([transforms.ToTensor()(crop) for crop in crops])),\n",
        "            transforms.Lambda(lambda tensors: torch.stack([transforms.Normalize(mean=(mu,), std=(st,))(t) for t in tensors])),\n",
        "            transforms.Lambda(lambda tensors: torch.stack([transforms.RandomErasing(p=0.5)(t) for t in tensors])),\n",
        "        ])\n",
        "    else:\n",
        "        train_transform = test_transform\n",
        "\n",
        "    # X = np.vstack((xtrain, xval))\n",
        "    # Y = np.hstack((ytrain, yval))\n",
        "\n",
        "    train = CustomDataset(xtrain, ytrain, train_transform)\n",
        "    val = CustomDataset(xval, yval, test_transform)\n",
        "    test = CustomDataset(xtest, ytest, test_transform)\n",
        "\n",
        "    trainloader = DataLoader(train, batch_size=bs, shuffle=True, num_workers=2)\n",
        "    valloader = DataLoader(val, batch_size=64, shuffle=True, num_workers=2)\n",
        "    testloader = DataLoader(test, batch_size=64, shuffle=True, num_workers=2)\n",
        "\n",
        "    return trainloader, valloader, testloader"
      ],
      "execution_count": 7,
      "outputs": []
    },
    {
      "cell_type": "code",
      "metadata": {
        "id": "QzTSwRkd_Rdf"
      },
      "source": [
        "def confusion(act, pred) :\n",
        "  data = {'Actual': act,\n",
        "          'Predicted': pred}\n",
        "  df = pd.DataFrame(data, columns=['Actual','Predicted'])\n",
        "  confusion_matrix = pd.crosstab(df['Actual'], df['Predicted'], rownames=['Actual'], colnames=['Predicted'])\n",
        "\n",
        "  sns.heatmap(confusion_matrix, annot=True)\n",
        "  plt.show()\n",
        "#END confusion"
      ],
      "execution_count": 8,
      "outputs": []
    },
    {
      "cell_type": "code",
      "metadata": {
        "id": "tVteF1AFtdDb"
      },
      "source": [
        "class Logger:\n",
        "    def __init__(self):\n",
        "        self.loss_train = []\n",
        "        self.loss_val = []\n",
        "\n",
        "        self.acc_train = []\n",
        "        self.acc_val = []\n",
        "\n",
        "    def get_logs(self):\n",
        "        return self.loss_train, self.loss_val, self.acc_train, self.acc_val\n",
        "\n",
        "    def restore_logs(self, logs):\n",
        "        self.loss_train, self.loss_val, self.acc_train, self.acc_val = logs\n",
        "\n",
        "    def show_plt(self):\n",
        "\n",
        "        plt.figure()\n",
        "        plt.plot(self.acc_train, 'g', label='Training Acc')\n",
        "        plt.plot(self.acc_val, 'b', label='Validation Acc')\n",
        "        plt.title('Accuracy')\n",
        "        plt.xlabel('Epoch')\n",
        "        plt.ylabel('Acc')\n",
        "        plt.legend()\n",
        "        plt.grid()\n",
        "        plt.show()\n",
        "\n",
        "        plt.figure()\n",
        "        plt.plot(self.loss_train, 'g', label='Training Loss')\n",
        "        plt.plot(self.loss_val, 'b', label='Validation Loss')\n",
        "        plt.title('Loss')\n",
        "        plt.xlabel('Epoch')\n",
        "        plt.ylabel('Loss')\n",
        "        plt.legend()\n",
        "        plt.grid()\n",
        "        plt.show()"
      ],
      "execution_count": 9,
      "outputs": []
    },
    {
      "cell_type": "code",
      "metadata": {
        "id": "LKbX4zNrtevf"
      },
      "source": [
        "class Vgg(nn.Module):\n",
        "    def __init__(self, drop=0.2):\n",
        "        super().__init__()\n",
        "\n",
        "        self.conv1a = nn.Conv2d(in_channels=1, out_channels=64, kernel_size=3, padding=1)\n",
        "        self.conv1b = nn.Conv2d(64, out_channels=64, kernel_size=3, padding=1)\n",
        "\n",
        "        self.conv2a = nn.Conv2d(64, 128, 3, padding=1)\n",
        "        self.conv2b = nn.Conv2d(128, 128, 3, padding=1)\n",
        "\n",
        "        self.conv3a = nn.Conv2d(128, 256, 3, padding=1)\n",
        "        self.conv3b = nn.Conv2d(256, 256, 3, padding=1)\n",
        "\n",
        "        self.conv4a = nn.Conv2d(256, 512, 3, padding=1)\n",
        "        self.conv4b = nn.Conv2d(512, 512, 3, padding=1)\n",
        "\n",
        "        self.pool = nn.MaxPool2d(kernel_size=2, stride=2)\n",
        "\n",
        "        self.bn1a = nn.BatchNorm2d(64)\n",
        "        self.bn1b = nn.BatchNorm2d(64)\n",
        "\n",
        "        self.bn2a = nn.BatchNorm2d(128)\n",
        "        self.bn2b = nn.BatchNorm2d(128)\n",
        "\n",
        "        self.bn3a = nn.BatchNorm2d(256)\n",
        "        self.bn3b = nn.BatchNorm2d(256)\n",
        "\n",
        "        self.bn4a = nn.BatchNorm2d(512)\n",
        "        self.bn4b = nn.BatchNorm2d(512)\n",
        "\n",
        "        self.lin1 = nn.Linear(512 * 2 * 2, 4096)\n",
        "        self.lin2 = nn.Linear(4096, 4096)\n",
        "\n",
        "        self.lin3 = nn.Linear(4096, 7)\n",
        "\n",
        "        self.drop = nn.Dropout(p=drop)\n",
        "\n",
        "    def forward(self, x):\n",
        "        x = F.relu(self.bn1a(self.conv1a(x)))\n",
        "        x = F.relu(self.bn1b(self.conv1b(x)))\n",
        "        x = self.pool(x)\n",
        "\n",
        "        x = F.relu(self.bn2a(self.conv2a(x)))\n",
        "        x = F.relu(self.bn2b(self.conv2b(x)))\n",
        "        x = self.pool(x)\n",
        "\n",
        "        x = F.relu(self.bn3a(self.conv3a(x)))\n",
        "        x = F.relu(self.bn3b(self.conv3b(x)))\n",
        "        x = self.pool(x)\n",
        "\n",
        "        x = F.relu(self.bn4a(self.conv4a(x)))\n",
        "        x = F.relu(self.bn4b(self.conv4b(x)))\n",
        "        x = self.pool(x)\n",
        "        \n",
        "        x = x.view(-1, 512 * 2 * 2)\n",
        "        x = F.relu(self.drop(self.lin1(x)))\n",
        "        x = F.relu(self.drop(self.lin2(x)))\n",
        "        x = self.lin3(x)\n",
        "\n",
        "        return x"
      ],
      "execution_count": 10,
      "outputs": []
    },
    {
      "cell_type": "code",
      "metadata": {
        "colab": {
          "base_uri": "https://localhost:8080/"
        },
        "id": "485NASR0tg0X",
        "outputId": "5b8386fb-4eae-497b-d8b8-d8f7087ff01f"
      },
      "source": [
        "# Load Trained Model\n",
        "checkpoint = torch.load('drive/MyDrive/VGGNet')\n",
        "net = Vgg().to(device)\n",
        "net.load_state_dict(checkpoint[\"params\"])\n",
        "net.eval()"
      ],
      "execution_count": 11,
      "outputs": [
        {
          "output_type": "execute_result",
          "data": {
            "text/plain": [
              "Vgg(\n",
              "  (conv1a): Conv2d(1, 64, kernel_size=(3, 3), stride=(1, 1), padding=(1, 1))\n",
              "  (conv1b): Conv2d(64, 64, kernel_size=(3, 3), stride=(1, 1), padding=(1, 1))\n",
              "  (conv2a): Conv2d(64, 128, kernel_size=(3, 3), stride=(1, 1), padding=(1, 1))\n",
              "  (conv2b): Conv2d(128, 128, kernel_size=(3, 3), stride=(1, 1), padding=(1, 1))\n",
              "  (conv3a): Conv2d(128, 256, kernel_size=(3, 3), stride=(1, 1), padding=(1, 1))\n",
              "  (conv3b): Conv2d(256, 256, kernel_size=(3, 3), stride=(1, 1), padding=(1, 1))\n",
              "  (conv4a): Conv2d(256, 512, kernel_size=(3, 3), stride=(1, 1), padding=(1, 1))\n",
              "  (conv4b): Conv2d(512, 512, kernel_size=(3, 3), stride=(1, 1), padding=(1, 1))\n",
              "  (pool): MaxPool2d(kernel_size=2, stride=2, padding=0, dilation=1, ceil_mode=False)\n",
              "  (bn1a): BatchNorm2d(64, eps=1e-05, momentum=0.1, affine=True, track_running_stats=True)\n",
              "  (bn1b): BatchNorm2d(64, eps=1e-05, momentum=0.1, affine=True, track_running_stats=True)\n",
              "  (bn2a): BatchNorm2d(128, eps=1e-05, momentum=0.1, affine=True, track_running_stats=True)\n",
              "  (bn2b): BatchNorm2d(128, eps=1e-05, momentum=0.1, affine=True, track_running_stats=True)\n",
              "  (bn3a): BatchNorm2d(256, eps=1e-05, momentum=0.1, affine=True, track_running_stats=True)\n",
              "  (bn3b): BatchNorm2d(256, eps=1e-05, momentum=0.1, affine=True, track_running_stats=True)\n",
              "  (bn4a): BatchNorm2d(512, eps=1e-05, momentum=0.1, affine=True, track_running_stats=True)\n",
              "  (bn4b): BatchNorm2d(512, eps=1e-05, momentum=0.1, affine=True, track_running_stats=True)\n",
              "  (lin1): Linear(in_features=2048, out_features=4096, bias=True)\n",
              "  (lin2): Linear(in_features=4096, out_features=4096, bias=True)\n",
              "  (lin3): Linear(in_features=4096, out_features=7, bias=True)\n",
              "  (drop): Dropout(p=0.2, inplace=False)\n",
              ")"
            ]
          },
          "metadata": {},
          "execution_count": 11
        }
      ]
    },
    {
      "cell_type": "code",
      "metadata": {
        "id": "5NAEejjjuxS_"
      },
      "source": [
        "def evaluate(net, dataloader, criterion):\n",
        "    net = net.eval()\n",
        "    loss_tr, n_samples = 0.0, 0.0\n",
        "\n",
        "    y_pred = []\n",
        "    y_gt = []\n",
        "\n",
        "    correct_count1 = 0\n",
        "    correct_count2 = 0\n",
        "\n",
        "    for data in dataloader:\n",
        "        inputs, labels = data\n",
        "        inputs, labels = inputs.to(device), labels.to(device)\n",
        "\n",
        "        # fuse crops and batchsize\n",
        "        bs, ncrops, c, h, w = inputs.shape\n",
        "        inputs = inputs.view(-1, c, h, w)\n",
        "\n",
        "        # forward\n",
        "        outputs = net(inputs)\n",
        "\n",
        "        # combine results across the crops\n",
        "        outputs = outputs.view(bs, ncrops, -1)\n",
        "        outputs = torch.sum(outputs, dim=1) / ncrops\n",
        "\n",
        "        loss = criterion(outputs, labels)\n",
        "\n",
        "        # calculate performance metrics\n",
        "        loss_tr += loss.item()\n",
        "\n",
        "        # accuracy\n",
        "        counts = correct_count(outputs, labels, topk=(1, 2))\n",
        "        correct_count1 += counts[0].item()\n",
        "        correct_count2 += counts[1].item()\n",
        "\n",
        "        _, preds = torch.max(outputs.data, 1)\n",
        "        preds = preds.to(\"cpu\")\n",
        "        labels = labels.to(\"cpu\")\n",
        "        n_samples += labels.size(0)\n",
        "\n",
        "        y_pred.extend(pred.item() for pred in preds)\n",
        "        y_gt.extend(y.item() for y in labels)\n",
        "    \n",
        "    acc1 = 100 * correct_count1 / n_samples\n",
        "    acc2 = 100 * correct_count2 / n_samples\n",
        "    loss = loss_tr / n_samples\n",
        "    print(\"--------------------------------------------------------\")\n",
        "    print(\"Top 1 Accuracy: %2.6f %%\" % acc1)\n",
        "    print(\"Top 2 Accuracy: %2.6f %%\" % acc2)\n",
        "    print(\"Loss: %2.6f\" % loss)\n",
        "    print(\"Precision: %2.6f\" % precision_score(y_gt, y_pred, average='micro'))\n",
        "    print(\"Recall: %2.6f\" % recall_score(y_gt, y_pred, average='micro'))\n",
        "    print(\"F1 Score: %2.6f\" % f1_score(y_gt, y_pred, average='micro'))\n",
        "    print(\"Confusion Matrix:\\n\", confusion_matrix(y_gt, y_pred), '\\n')\n",
        "    confusion(y_gt, y_pred)"
      ],
      "execution_count": 12,
      "outputs": []
    },
    {
      "cell_type": "code",
      "metadata": {
        "id": "MUPppZYPw0-T"
      },
      "source": [
        "def correct_count(output, target, topk=(1,)):\n",
        "    \"\"\"Computes the top k corrrect count for the specified values of k\"\"\"\n",
        "    maxk = max(topk)\n",
        "\n",
        "    _, pred = output.topk(maxk, 1, True, True)\n",
        "    pred = pred.t()\n",
        "    correct = pred.eq(target.view(1, -1).expand_as(pred))\n",
        "\n",
        "    res = []\n",
        "    for k in topk:\n",
        "        correct_k = correct[:k].contiguous().view(-1).float().sum(0, keepdim=True)\n",
        "        res.append(correct_k)\n",
        "    return res"
      ],
      "execution_count": 13,
      "outputs": []
    },
    {
      "cell_type": "code",
      "metadata": {
        "colab": {
          "base_uri": "https://localhost:8080/",
          "height": 1000
        },
        "id": "QL_Ic_MnSOPe",
        "outputId": "443e3083-d507-49be-8d80-4cdc9a64dd1b"
      },
      "source": [
        "# load data\n",
        "fer2013,emotion_mapping = load_data('drive/MyDrive/fer2013.csv')\n",
        "\n",
        "xtrain,ytrain = prepare_data(fer2013[fer2013['Usage']=='Training'])\n",
        "xtrainPrivate,ytrainPrivate = prepare_data(fer2013[fer2013['Usage']=='PrivateTest'])\n",
        "xtrainPublic,ytrainPublic = prepare_data(fer2013[fer2013['Usage']=='PublicTest'])\n",
        "\n",
        "columnListing = [len(xtrain), len(xtrainPrivate), len(xtrainPublic)]\n",
        "\n",
        "# 7 emotion classes is fixed and known\n",
        "n_classes = 7\n",
        "# array to collect number of samples in each set\n",
        "num_of_samples = []\n",
        "# set up a plot of the correct size for images\n",
        "# do the following for each data set\n",
        "plt.figure(figsize=(12,16.5))\n",
        "\n",
        "#images classes\n",
        "used = []\n",
        "#run for each class\n",
        "for i in range(len(xtrain)) :\n",
        "  #for each unprinted class\n",
        "  if ytrain[i] not in used :\n",
        "    plt.imshow(xtrain[i], cmap='gray')\n",
        "    #mark the class as seen\n",
        "    used.append(ytrain[i])\n",
        "    #show the plot\n",
        "    plt.show()\n",
        "    #print the label for the emotion\n",
        "    print(ytrain[i])\n",
        "  #END IF\n",
        "\n",
        "  #check if all seven classes are displayed\n",
        "  if len(used) == n_classes :\n",
        "    #exit the loop\n",
        "    break\n",
        "  #END IF\n",
        "#END FOR\n",
        "\n",
        "#plot number of images per class\n",
        "plt.figure(figsize=(12,4))\n",
        "\n",
        "plt.bar(['Training', 'PrivateTest', 'PublicTest'], columnListing)\n",
        "\n",
        "#plot your data for each data set\n",
        "plt.show()"
      ],
      "execution_count": 28,
      "outputs": [
        {
          "output_type": "display_data",
          "data": {
            "image/png": "[encoded data removed]",
            "text/plain": [
              "<Figure size 864x1188 with 1 Axes>"
            ]
          },
          "metadata": {
            "needs_background": "light"
          }
        },
        {
          "output_type": "stream",
          "name": "stdout",
          "text": [
            "0\n"
          ]
        },
        {
          "output_type": "display_data",
          "data": {
            "image/png": "[encoded data removed]",
            "text/plain": [
              "<Figure size 432x288 with 1 Axes>"
            ]
          },
          "metadata": {
            "needs_background": "light"
          }
        },
        {
          "output_type": "stream",
          "name": "stdout",
          "text": [
            "2\n"
          ]
        },
        {
          "output_type": "display_data",
          "data": {
            "image/png": "[encoded data removed]",
            "text/plain": [
              "<Figure size 432x288 with 1 Axes>"
            ]
          },
          "metadata": {
            "needs_background": "light"
          }
        },
        {
          "output_type": "stream",
          "name": "stdout",
          "text": [
            "4\n"
          ]
        },
        {
          "output_type": "display_data",
          "data": {
            "image/png": "[encoded data removed]",
            "text/plain": [
              "<Figure size 432x288 with 1 Axes>"
            ]
          },
          "metadata": {
            "needs_background": "light"
          }
        },
        {
          "output_type": "stream",
          "name": "stdout",
          "text": [
            "6\n"
          ]
        },
        {
          "output_type": "display_data",
          "data": {
            "image/png": "[encoded data removed]",
            "text/plain": [
              "<Figure size 432x288 with 1 Axes>"
            ]
          },
          "metadata": {
            "needs_background": "light"
          }
        },
        {
          "output_type": "stream",
          "name": "stdout",
          "text": [
            "3\n"
          ]
        },
        {
          "output_type": "display_data",
          "data": {
            "image/png": "[encoded data removed]",
            "text/plain": [
              "<Figure size 432x288 with 1 Axes>"
            ]
          },
          "metadata": {
            "needs_background": "light"
          }
        },
        {
          "output_type": "stream",
          "name": "stdout",
          "text": [
            "5\n"
          ]
        },
        {
          "output_type": "display_data",
          "data": {
            "image/png": "[encoded data removed]",
            "text/plain": [
              "<Figure size 432x288 with 1 Axes>"
            ]
          },
          "metadata": {
            "needs_background": "light"
          }
        },
        {
          "output_type": "stream",
          "name": "stdout",
          "text": [
            "1\n"
          ]
        },
        {
          "output_type": "display_data",
          "data": {
            "image/png": "[encoded data removed]",
            "text/plain": [
              "<Figure size 864x288 with 1 Axes>"
            ]
          },
          "metadata": {
            "needs_background": "light"
          }
        }
      ]
    },
    {
      "cell_type": "code",
      "metadata": {
        "id": "aeR1Lgrxtjh2",
        "colab": {
          "base_uri": "https://localhost:8080/",
          "height": 565
        },
        "outputId": "50485af7-8d5d-40bd-f8e7-ad3875fa0ef3"
      },
      "source": [
        "criterion = nn.CrossEntropyLoss()\n",
        "# Get data with no augmentation\n",
        "trainloader, valloader, testloader = get_dataloaders(augment=False)\n",
        "print(\"Test\")\n",
        "evaluate(net, testloader, criterion)\n"
      ],
      "execution_count": 15,
      "outputs": [
        {
          "output_type": "stream",
          "name": "stdout",
          "text": [
            "Test\n",
            "--------------------------------------------------------\n",
            "Top 1 Accuracy: 73.279465 %\n",
            "Top 2 Accuracy: 86.458624 %\n",
            "Loss: 0.019674\n",
            "Precision: 0.732795\n",
            "Recall: 0.732795\n",
            "F1 Score: 0.732795\n",
            "Confusion Matrix:\n",
            " [[308   3  34  20  49   9  44]\n",
            " [ 13  36   2   1   3   1   0]\n",
            " [ 38   0 284  11  84  32  47]\n",
            " [ 11   0  10 797  12  15  50]\n",
            " [ 56   0  54  19 425   8  91]\n",
            " [  7   0  26  16   7 351   8]\n",
            " [ 31   0  21  39  78   9 429]] \n",
            "\n"
          ]
        },
        {
          "output_type": "display_data",
          "data": {
            "image/png": "[encoded data removed]",
            "text/plain": [
              "<Figure size 432x288 with 2 Axes>"
            ]
          },
          "metadata": {
            "needs_background": "light"
          }
        }
      ]
    }
  ]
}